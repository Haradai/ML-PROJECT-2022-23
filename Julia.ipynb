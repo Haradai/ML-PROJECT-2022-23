{
 "cells": [
  {
   "cell_type": "markdown",
   "metadata": {},
   "source": [
    "---\n",
    "\n",
    "## Finding the best Classifier\n",
    "\n",
    "---"
   ]
  },
  {
   "cell_type": "markdown",
   "metadata": {},
   "source": [
    "$\\color{pink}{\\text{Classification}}$ is the process of predicting the class of given data points. Classification predictive modeling is the task of approximating a mapping function (f) from input variables (X) to discrete output variables (y). \n",
    "\n",
    "There is a lot of classification algorithms but it is not possible to conclude which one is superior to other. It depends on the application and nature of available data set. In the following section we test some of the known machine learning algorithms for classifiaction in other to determine which one has the best performance in our case."
   ]
  },
  {
   "cell_type": "markdown",
   "metadata": {},
   "source": [
    "$\\color{pink}{\\text{Before testing work}}$"
   ]
  },
  {
   "cell_type": "markdown",
   "metadata": {},
   "source": [
    "- Import the necessary libraries"
   ]
  },
  {
   "cell_type": "code",
   "execution_count": 91,
   "metadata": {},
   "outputs": [],
   "source": [
    "import pandas as pd\n",
    "import numpy as np\n",
    "import matplotlib.pyplot as plt\n",
    "import seaborn as sb\n",
    "from sklearn.naive_bayes import GaussianNB\n",
    "from sklearn.linear_model import LogisticRegression\n",
    "from sklearn.model_selection import train_test_split\n",
    "from sklearn.model_selection import cross_val_score\n",
    "from sklearn.metrics import confusion_matrix, ConfusionMatrixDisplay, classification_report\n"
   ]
  },
  {
   "cell_type": "markdown",
   "metadata": {},
   "source": [
    "- Import dataset"
   ]
  },
  {
   "cell_type": "code",
   "execution_count": 92,
   "metadata": {},
   "outputs": [
    {
     "data": {
      "text/html": [
       "<div>\n",
       "<style scoped>\n",
       "    .dataframe tbody tr th:only-of-type {\n",
       "        vertical-align: middle;\n",
       "    }\n",
       "\n",
       "    .dataframe tbody tr th {\n",
       "        vertical-align: top;\n",
       "    }\n",
       "\n",
       "    .dataframe thead th {\n",
       "        text-align: right;\n",
       "    }\n",
       "</style>\n",
       "<table border=\"1\" class=\"dataframe\">\n",
       "  <thead>\n",
       "    <tr style=\"text-align: right;\">\n",
       "      <th></th>\n",
       "      <th>file</th>\n",
       "      <th>animal</th>\n",
       "      <th>band0</th>\n",
       "      <th>band1</th>\n",
       "      <th>band2</th>\n",
       "      <th>band3</th>\n",
       "      <th>band4</th>\n",
       "      <th>band5</th>\n",
       "      <th>band6</th>\n",
       "      <th>band7</th>\n",
       "      <th>...</th>\n",
       "      <th>band15</th>\n",
       "      <th>band16</th>\n",
       "      <th>band17</th>\n",
       "      <th>band18</th>\n",
       "      <th>band19</th>\n",
       "      <th>band20</th>\n",
       "      <th>band21</th>\n",
       "      <th>band22</th>\n",
       "      <th>band23</th>\n",
       "      <th>band24</th>\n",
       "    </tr>\n",
       "  </thead>\n",
       "  <tbody>\n",
       "    <tr>\n",
       "      <th>0</th>\n",
       "      <td>audio-dataset/cats_dogs/cat_74.wav</td>\n",
       "      <td>1</td>\n",
       "      <td>-8.027532</td>\n",
       "      <td>-8.557745</td>\n",
       "      <td>-7.066034</td>\n",
       "      <td>-11.007767</td>\n",
       "      <td>-2.205326</td>\n",
       "      <td>-2.614854</td>\n",
       "      <td>-9.251714</td>\n",
       "      <td>-7.110344</td>\n",
       "      <td>...</td>\n",
       "      <td>-27.856952</td>\n",
       "      <td>-24.824903</td>\n",
       "      <td>-45.901381</td>\n",
       "      <td>-50.192669</td>\n",
       "      <td>-50.192669</td>\n",
       "      <td>-50.192669</td>\n",
       "      <td>-50.192669</td>\n",
       "      <td>-50.192669</td>\n",
       "      <td>-50.192669</td>\n",
       "      <td>-50.192669</td>\n",
       "    </tr>\n",
       "    <tr>\n",
       "      <th>1</th>\n",
       "      <td>audio-dataset/cats_dogs/dog_barking_63.wav</td>\n",
       "      <td>0</td>\n",
       "      <td>-20.834045</td>\n",
       "      <td>-6.203216</td>\n",
       "      <td>-13.831171</td>\n",
       "      <td>-19.378827</td>\n",
       "      <td>-28.767850</td>\n",
       "      <td>-27.528727</td>\n",
       "      <td>-26.376291</td>\n",
       "      <td>-39.701635</td>\n",
       "      <td>...</td>\n",
       "      <td>-37.618089</td>\n",
       "      <td>-40.776983</td>\n",
       "      <td>-42.116020</td>\n",
       "      <td>-42.455536</td>\n",
       "      <td>-42.455536</td>\n",
       "      <td>-42.455536</td>\n",
       "      <td>-42.455536</td>\n",
       "      <td>-42.455536</td>\n",
       "      <td>-42.455536</td>\n",
       "      <td>-42.455536</td>\n",
       "    </tr>\n",
       "    <tr>\n",
       "      <th>2</th>\n",
       "      <td>audio-dataset/cats_dogs/cat_60.wav</td>\n",
       "      <td>1</td>\n",
       "      <td>5.145155</td>\n",
       "      <td>-10.034791</td>\n",
       "      <td>-5.291555</td>\n",
       "      <td>-21.877704</td>\n",
       "      <td>-26.527866</td>\n",
       "      <td>-33.613935</td>\n",
       "      <td>-36.843166</td>\n",
       "      <td>-37.880773</td>\n",
       "      <td>...</td>\n",
       "      <td>-38.120739</td>\n",
       "      <td>-38.381084</td>\n",
       "      <td>-38.824154</td>\n",
       "      <td>-38.824154</td>\n",
       "      <td>-38.824154</td>\n",
       "      <td>-38.824154</td>\n",
       "      <td>-38.824154</td>\n",
       "      <td>-38.824154</td>\n",
       "      <td>-38.824154</td>\n",
       "      <td>-38.824154</td>\n",
       "    </tr>\n",
       "    <tr>\n",
       "      <th>3</th>\n",
       "      <td>audio-dataset/cats_dogs/dog_barking_77.wav</td>\n",
       "      <td>0</td>\n",
       "      <td>-8.327550</td>\n",
       "      <td>2.926731</td>\n",
       "      <td>-4.832696</td>\n",
       "      <td>-8.023895</td>\n",
       "      <td>-18.158772</td>\n",
       "      <td>-20.334925</td>\n",
       "      <td>-23.755830</td>\n",
       "      <td>-29.417344</td>\n",
       "      <td>...</td>\n",
       "      <td>-34.919730</td>\n",
       "      <td>-36.878413</td>\n",
       "      <td>-40.819096</td>\n",
       "      <td>-41.520092</td>\n",
       "      <td>-41.520092</td>\n",
       "      <td>-41.520092</td>\n",
       "      <td>-41.520092</td>\n",
       "      <td>-41.520092</td>\n",
       "      <td>-41.520092</td>\n",
       "      <td>-41.520092</td>\n",
       "    </tr>\n",
       "    <tr>\n",
       "      <th>4</th>\n",
       "      <td>audio-dataset/cats_dogs/cat_48.wav</td>\n",
       "      <td>1</td>\n",
       "      <td>-23.275580</td>\n",
       "      <td>-11.968597</td>\n",
       "      <td>-4.606911</td>\n",
       "      <td>-2.391914</td>\n",
       "      <td>-11.736590</td>\n",
       "      <td>-31.441037</td>\n",
       "      <td>-37.686748</td>\n",
       "      <td>-37.171268</td>\n",
       "      <td>...</td>\n",
       "      <td>-38.690999</td>\n",
       "      <td>-39.411448</td>\n",
       "      <td>-40.018420</td>\n",
       "      <td>-40.019665</td>\n",
       "      <td>-40.019665</td>\n",
       "      <td>-40.019665</td>\n",
       "      <td>-40.019665</td>\n",
       "      <td>-40.019665</td>\n",
       "      <td>-40.019665</td>\n",
       "      <td>-40.019665</td>\n",
       "    </tr>\n",
       "  </tbody>\n",
       "</table>\n",
       "<p>5 rows × 27 columns</p>\n",
       "</div>"
      ],
      "text/plain": [
       "                                         file  animal      band0      band1  \\\n",
       "0          audio-dataset/cats_dogs/cat_74.wav       1  -8.027532  -8.557745   \n",
       "1  audio-dataset/cats_dogs/dog_barking_63.wav       0 -20.834045  -6.203216   \n",
       "2          audio-dataset/cats_dogs/cat_60.wav       1   5.145155 -10.034791   \n",
       "3  audio-dataset/cats_dogs/dog_barking_77.wav       0  -8.327550   2.926731   \n",
       "4          audio-dataset/cats_dogs/cat_48.wav       1 -23.275580 -11.968597   \n",
       "\n",
       "       band2      band3      band4      band5      band6      band7  ...  \\\n",
       "0  -7.066034 -11.007767  -2.205326  -2.614854  -9.251714  -7.110344  ...   \n",
       "1 -13.831171 -19.378827 -28.767850 -27.528727 -26.376291 -39.701635  ...   \n",
       "2  -5.291555 -21.877704 -26.527866 -33.613935 -36.843166 -37.880773  ...   \n",
       "3  -4.832696  -8.023895 -18.158772 -20.334925 -23.755830 -29.417344  ...   \n",
       "4  -4.606911  -2.391914 -11.736590 -31.441037 -37.686748 -37.171268  ...   \n",
       "\n",
       "      band15     band16     band17     band18     band19     band20  \\\n",
       "0 -27.856952 -24.824903 -45.901381 -50.192669 -50.192669 -50.192669   \n",
       "1 -37.618089 -40.776983 -42.116020 -42.455536 -42.455536 -42.455536   \n",
       "2 -38.120739 -38.381084 -38.824154 -38.824154 -38.824154 -38.824154   \n",
       "3 -34.919730 -36.878413 -40.819096 -41.520092 -41.520092 -41.520092   \n",
       "4 -38.690999 -39.411448 -40.018420 -40.019665 -40.019665 -40.019665   \n",
       "\n",
       "      band21     band22     band23     band24  \n",
       "0 -50.192669 -50.192669 -50.192669 -50.192669  \n",
       "1 -42.455536 -42.455536 -42.455536 -42.455536  \n",
       "2 -38.824154 -38.824154 -38.824154 -38.824154  \n",
       "3 -41.520092 -41.520092 -41.520092 -41.520092  \n",
       "4 -40.019665 -40.019665 -40.019665 -40.019665  \n",
       "\n",
       "[5 rows x 27 columns]"
      ]
     },
     "execution_count": 92,
     "metadata": {},
     "output_type": "execute_result"
    }
   ],
   "source": [
    "filename = \"dataframes/bands_lin.csv\"\n",
    "df = pd.read_csv(filename)\n",
    "df.head()"
   ]
  },
  {
   "cell_type": "markdown",
   "metadata": {},
   "source": [
    "An histogram plot (just to notice data behaviour):"
   ]
  },
  {
   "cell_type": "code",
   "execution_count": 93,
   "metadata": {},
   "outputs": [
    {
     "data": {
      "text/plain": [
       "<AxesSubplot:>"
      ]
     },
     "execution_count": 93,
     "metadata": {},
     "output_type": "execute_result"
    },
    {
     "data": {
      "image/png": "[encoded data removed]",
      "text/plain": [
       "<Figure size 432x288 with 1 Axes>"
      ]
     },
     "metadata": {
      "needs_background": "light"
     },
     "output_type": "display_data"
    }
   ],
   "source": [
    "df[\"band0\"].hist()"
   ]
  },
  {
   "cell_type": "markdown",
   "metadata": {},
   "source": [
    "- Declare feature vector and target vector."
   ]
  },
  {
   "cell_type": "code",
   "execution_count": 94,
   "metadata": {},
   "outputs": [],
   "source": [
    "X = df.drop(columns=['animal','file'], axis=1) \n",
    "y = df['animal']"
   ]
  },
  {
   "cell_type": "markdown",
   "metadata": {},
   "source": [
    "- Split data into into separate training and test sets."
   ]
  },
  {
   "cell_type": "code",
   "execution_count": 95,
   "metadata": {},
   "outputs": [],
   "source": [
    "X_train, X_test, y_train, y_test = train_test_split(X, y,test_size=0.4, random_state=0)"
   ]
  },
  {
   "cell_type": "markdown",
   "metadata": {},
   "source": [
    "- Feature scaling"
   ]
  },
  {
   "cell_type": "code",
   "execution_count": 96,
   "metadata": {},
   "outputs": [
    {
     "data": {
      "text/html": [
       "<div>\n",
       "<style scoped>\n",
       "    .dataframe tbody tr th:only-of-type {\n",
       "        vertical-align: middle;\n",
       "    }\n",
       "\n",
       "    .dataframe tbody tr th {\n",
       "        vertical-align: top;\n",
       "    }\n",
       "\n",
       "    .dataframe thead tr th {\n",
       "        text-align: left;\n",
       "    }\n",
       "</style>\n",
       "<table border=\"1\" class=\"dataframe\">\n",
       "  <thead>\n",
       "    <tr>\n",
       "      <th></th>\n",
       "      <th>band0</th>\n",
       "      <th>band1</th>\n",
       "      <th>band2</th>\n",
       "      <th>band3</th>\n",
       "      <th>band4</th>\n",
       "      <th>band5</th>\n",
       "      <th>band6</th>\n",
       "      <th>band7</th>\n",
       "      <th>band8</th>\n",
       "      <th>band9</th>\n",
       "      <th>...</th>\n",
       "      <th>band15</th>\n",
       "      <th>band16</th>\n",
       "      <th>band17</th>\n",
       "      <th>band18</th>\n",
       "      <th>band19</th>\n",
       "      <th>band20</th>\n",
       "      <th>band21</th>\n",
       "      <th>band22</th>\n",
       "      <th>band23</th>\n",
       "      <th>band24</th>\n",
       "    </tr>\n",
       "  </thead>\n",
       "  <tbody>\n",
       "    <tr>\n",
       "      <th>0</th>\n",
       "      <td>-0.517501</td>\n",
       "      <td>-1.074493</td>\n",
       "      <td>-1.471011</td>\n",
       "      <td>-1.412433</td>\n",
       "      <td>-0.429146</td>\n",
       "      <td>-0.371495</td>\n",
       "      <td>-0.455460</td>\n",
       "      <td>-0.039489</td>\n",
       "      <td>-0.062794</td>\n",
       "      <td>0.087273</td>\n",
       "      <td>...</td>\n",
       "      <td>-0.197846</td>\n",
       "      <td>-0.355584</td>\n",
       "      <td>-1.551445</td>\n",
       "      <td>-1.326507</td>\n",
       "      <td>-1.326507</td>\n",
       "      <td>-1.326507</td>\n",
       "      <td>-1.326507</td>\n",
       "      <td>-1.326507</td>\n",
       "      <td>-1.326507</td>\n",
       "      <td>-1.326507</td>\n",
       "    </tr>\n",
       "    <tr>\n",
       "      <th>1</th>\n",
       "      <td>0.186857</td>\n",
       "      <td>-1.075348</td>\n",
       "      <td>0.259667</td>\n",
       "      <td>-1.007776</td>\n",
       "      <td>-0.332961</td>\n",
       "      <td>0.299448</td>\n",
       "      <td>-0.799661</td>\n",
       "      <td>0.267140</td>\n",
       "      <td>0.276694</td>\n",
       "      <td>-0.229793</td>\n",
       "      <td>...</td>\n",
       "      <td>0.225778</td>\n",
       "      <td>0.004451</td>\n",
       "      <td>-0.228451</td>\n",
       "      <td>-0.140907</td>\n",
       "      <td>-0.140907</td>\n",
       "      <td>-0.140907</td>\n",
       "      <td>-0.140907</td>\n",
       "      <td>-0.140907</td>\n",
       "      <td>-0.140907</td>\n",
       "      <td>-0.140907</td>\n",
       "    </tr>\n",
       "    <tr>\n",
       "      <th>2</th>\n",
       "      <td>-0.962868</td>\n",
       "      <td>-0.000314</td>\n",
       "      <td>-0.412355</td>\n",
       "      <td>-0.635843</td>\n",
       "      <td>-0.116231</td>\n",
       "      <td>-0.782815</td>\n",
       "      <td>-0.475533</td>\n",
       "      <td>-0.446369</td>\n",
       "      <td>-0.754770</td>\n",
       "      <td>-0.857159</td>\n",
       "      <td>...</td>\n",
       "      <td>-0.717349</td>\n",
       "      <td>-0.594625</td>\n",
       "      <td>-0.122796</td>\n",
       "      <td>-0.074152</td>\n",
       "      <td>-0.074152</td>\n",
       "      <td>-0.074152</td>\n",
       "      <td>-0.074152</td>\n",
       "      <td>-0.074152</td>\n",
       "      <td>-0.074152</td>\n",
       "      <td>-0.074152</td>\n",
       "    </tr>\n",
       "    <tr>\n",
       "      <th>3</th>\n",
       "      <td>-0.093348</td>\n",
       "      <td>0.415858</td>\n",
       "      <td>-0.025828</td>\n",
       "      <td>-0.399444</td>\n",
       "      <td>-0.255923</td>\n",
       "      <td>-0.469192</td>\n",
       "      <td>-0.296499</td>\n",
       "      <td>-0.566653</td>\n",
       "      <td>-0.466237</td>\n",
       "      <td>-0.200674</td>\n",
       "      <td>...</td>\n",
       "      <td>-0.526802</td>\n",
       "      <td>-0.358423</td>\n",
       "      <td>0.527121</td>\n",
       "      <td>0.518003</td>\n",
       "      <td>0.518003</td>\n",
       "      <td>0.518003</td>\n",
       "      <td>0.518003</td>\n",
       "      <td>0.518003</td>\n",
       "      <td>0.518003</td>\n",
       "      <td>0.518003</td>\n",
       "    </tr>\n",
       "    <tr>\n",
       "      <th>4</th>\n",
       "      <td>0.430474</td>\n",
       "      <td>-0.073263</td>\n",
       "      <td>-0.172135</td>\n",
       "      <td>-0.348431</td>\n",
       "      <td>0.385860</td>\n",
       "      <td>0.548866</td>\n",
       "      <td>0.620698</td>\n",
       "      <td>0.595613</td>\n",
       "      <td>0.522958</td>\n",
       "      <td>0.439626</td>\n",
       "      <td>...</td>\n",
       "      <td>0.561450</td>\n",
       "      <td>0.728608</td>\n",
       "      <td>0.249934</td>\n",
       "      <td>0.148554</td>\n",
       "      <td>0.148106</td>\n",
       "      <td>0.147822</td>\n",
       "      <td>0.147627</td>\n",
       "      <td>0.147493</td>\n",
       "      <td>0.147408</td>\n",
       "      <td>0.147366</td>\n",
       "    </tr>\n",
       "  </tbody>\n",
       "</table>\n",
       "<p>5 rows × 25 columns</p>\n",
       "</div>"
      ],
      "text/plain": [
       "      band0     band1     band2     band3     band4     band5     band6  \\\n",
       "0 -0.517501 -1.074493 -1.471011 -1.412433 -0.429146 -0.371495 -0.455460   \n",
       "1  0.186857 -1.075348  0.259667 -1.007776 -0.332961  0.299448 -0.799661   \n",
       "2 -0.962868 -0.000314 -0.412355 -0.635843 -0.116231 -0.782815 -0.475533   \n",
       "3 -0.093348  0.415858 -0.025828 -0.399444 -0.255923 -0.469192 -0.296499   \n",
       "4  0.430474 -0.073263 -0.172135 -0.348431  0.385860  0.548866  0.620698   \n",
       "\n",
       "      band7     band8     band9  ...    band15    band16    band17    band18  \\\n",
       "0 -0.039489 -0.062794  0.087273  ... -0.197846 -0.355584 -1.551445 -1.326507   \n",
       "1  0.267140  0.276694 -0.229793  ...  0.225778  0.004451 -0.228451 -0.140907   \n",
       "2 -0.446369 -0.754770 -0.857159  ... -0.717349 -0.594625 -0.122796 -0.074152   \n",
       "3 -0.566653 -0.466237 -0.200674  ... -0.526802 -0.358423  0.527121  0.518003   \n",
       "4  0.595613  0.522958  0.439626  ...  0.561450  0.728608  0.249934  0.148554   \n",
       "\n",
       "     band19    band20    band21    band22    band23    band24  \n",
       "0 -1.326507 -1.326507 -1.326507 -1.326507 -1.326507 -1.326507  \n",
       "1 -0.140907 -0.140907 -0.140907 -0.140907 -0.140907 -0.140907  \n",
       "2 -0.074152 -0.074152 -0.074152 -0.074152 -0.074152 -0.074152  \n",
       "3  0.518003  0.518003  0.518003  0.518003  0.518003  0.518003  \n",
       "4  0.148106  0.147822  0.147627  0.147493  0.147408  0.147366  \n",
       "\n",
       "[5 rows x 25 columns]"
      ]
     },
     "execution_count": 96,
     "metadata": {},
     "output_type": "execute_result"
    }
   ],
   "source": [
    "from sklearn.preprocessing import RobustScaler\n",
    "\n",
    "cols = X_train.columns\n",
    "\n",
    "scaler = RobustScaler()\n",
    "\n",
    "X_train = scaler.fit_transform(X_train)\n",
    "\n",
    "X_test = scaler.transform(X_test)\n",
    "X_train = pd.DataFrame(X_train, columns=[cols])\n",
    "X_test = pd.DataFrame(X_test, columns=[cols])\n",
    "X_train.head()"
   ]
  },
  {
   "cell_type": "markdown",
   "metadata": {},
   "source": [
    "---\n",
    "\n",
    "## Polynomial Regression\n",
    "\n",
    "---\n",
    "\n",
    "Since our data values must be categorical, either dogs (0) or cats (1), training a polynomial regression model over our objective would result completely useless. We don't need continuous results, we only want categorical results, 0 or 1.**\n",
    "\n",
    "Therefore, a better option is to train a Logistic Regression model which returns us a value of 0 or 1.\n",
    "\n",
    "---\n",
    "\n",
    "## Logistic Regression\n",
    "\n",
    "---\n",
    "\n",
    "### $\\color{pink}{\\text{(1) Basic notions}}$\n",
    "\n",
    "\n",
    "Logistic regression is one of the most common machine learning algorithms used for binary classification. It predicts the probability of occurrence of a binary outcome (cat or dog) using a logit function (sigmoid function). \n",
    "\n",
    "The following picture illustrates the Decision Boundary process:\n",
    "\n",
    "<center><img src=\"LR.PNG\" width=\"450\" height=\"300\"></center>\n",
    "\n",
    "### $\\color{pink}{\\text{(3) Code}}$"
   ]
  },
  {
   "cell_type": "code",
   "execution_count": 97,
   "metadata": {},
   "outputs": [
    {
     "data": {
      "text/html": [
       "<style>#sk-container-id-6 {color: black;background-color: white;}#sk-container-id-6 pre{padding: 0;}#sk-container-id-6 div.sk-toggleable {background-color: white;}#sk-container-id-6 label.sk-toggleable__label {cursor: pointer;display: block;width: 100%;margin-bottom: 0;padding: 0.3em;box-sizing: border-box;text-align: center;}#sk-container-id-6 label.sk-toggleable__label-arrow:before {content: \"▸\";float: left;margin-right: 0.25em;color: #696969;}#sk-container-id-6 label.sk-toggleable__label-arrow:hover:before {color: black;}#sk-container-id-6 div.sk-estimator:hover label.sk-toggleable__label-arrow:before {color: black;}#sk-container-id-6 div.sk-toggleable__content {max-height: 0;max-width: 0;overflow: hidden;text-align: left;background-color: #f0f8ff;}#sk-container-id-6 div.sk-toggleable__content pre {margin: 0.2em;color: black;border-radius: 0.25em;background-color: #f0f8ff;}#sk-container-id-6 input.sk-toggleable__control:checked~div.sk-toggleable__content {max-height: 200px;max-width: 100%;overflow: auto;}#sk-container-id-6 input.sk-toggleable__control:checked~label.sk-toggleable__label-arrow:before {content: \"▾\";}#sk-container-id-6 div.sk-estimator input.sk-toggleable__control:checked~label.sk-toggleable__label {background-color: #d4ebff;}#sk-container-id-6 div.sk-label input.sk-toggleable__control:checked~label.sk-toggleable__label {background-color: #d4ebff;}#sk-container-id-6 input.sk-hidden--visually {border: 0;clip: rect(1px 1px 1px 1px);clip: rect(1px, 1px, 1px, 1px);height: 1px;margin: -1px;overflow: hidden;padding: 0;position: absolute;width: 1px;}#sk-container-id-6 div.sk-estimator {font-family: monospace;background-color: #f0f8ff;border: 1px dotted black;border-radius: 0.25em;box-sizing: border-box;margin-bottom: 0.5em;}#sk-container-id-6 div.sk-estimator:hover {background-color: #d4ebff;}#sk-container-id-6 div.sk-parallel-item::after {content: \"\";width: 100%;border-bottom: 1px solid gray;flex-grow: 1;}#sk-container-id-6 div.sk-label:hover label.sk-toggleable__label {background-color: #d4ebff;}#sk-container-id-6 div.sk-serial::before {content: \"\";position: absolute;border-left: 1px solid gray;box-sizing: border-box;top: 0;bottom: 0;left: 50%;z-index: 0;}#sk-container-id-6 div.sk-serial {display: flex;flex-direction: column;align-items: center;background-color: white;padding-right: 0.2em;padding-left: 0.2em;position: relative;}#sk-container-id-6 div.sk-item {position: relative;z-index: 1;}#sk-container-id-6 div.sk-parallel {display: flex;align-items: stretch;justify-content: center;background-color: white;position: relative;}#sk-container-id-6 div.sk-item::before, #sk-container-id-6 div.sk-parallel-item::before {content: \"\";position: absolute;border-left: 1px solid gray;box-sizing: border-box;top: 0;bottom: 0;left: 50%;z-index: -1;}#sk-container-id-6 div.sk-parallel-item {display: flex;flex-direction: column;z-index: 1;position: relative;background-color: white;}#sk-container-id-6 div.sk-parallel-item:first-child::after {align-self: flex-end;width: 50%;}#sk-container-id-6 div.sk-parallel-item:last-child::after {align-self: flex-start;width: 50%;}#sk-container-id-6 div.sk-parallel-item:only-child::after {width: 0;}#sk-container-id-6 div.sk-dashed-wrapped {border: 1px dashed gray;margin: 0 0.4em 0.5em 0.4em;box-sizing: border-box;padding-bottom: 0.4em;background-color: white;}#sk-container-id-6 div.sk-label label {font-family: monospace;font-weight: bold;display: inline-block;line-height: 1.2em;}#sk-container-id-6 div.sk-label-container {text-align: center;}#sk-container-id-6 div.sk-container {/* jupyter's `normalize.less` sets `[hidden] { display: none; }` but bootstrap.min.css set `[hidden] { display: none !important; }` so we also need the `!important` here to be able to override the default hidden behavior on the sphinx rendered scikit-learn.org. See: https://github.com/scikit-learn/scikit-learn/issues/21755 */display: inline-block !important;position: relative;}#sk-container-id-6 div.sk-text-repr-fallback {display: none;}</style><div id=\"sk-container-id-6\" class=\"sk-top-container\"><div class=\"sk-text-repr-fallback\"><pre>LogisticRegression()</pre><b>In a Jupyter environment, please rerun this cell to show the HTML representation or trust the notebook. <br />On GitHub, the HTML representation is unable to render, please try loading this page with nbviewer.org.</b></div><div class=\"sk-container\" hidden><div class=\"sk-item\"><div class=\"sk-estimator sk-toggleable\"><input class=\"sk-toggleable__control sk-hidden--visually\" id=\"sk-estimator-id-6\" type=\"checkbox\" checked><label for=\"sk-estimator-id-6\" class=\"sk-toggleable__label sk-toggleable__label-arrow\">LogisticRegression</label><div class=\"sk-toggleable__content\"><pre>LogisticRegression()</pre></div></div></div></div></div>"
      ],
      "text/plain": [
       "LogisticRegression()"
      ]
     },
     "execution_count": 97,
     "metadata": {},
     "output_type": "execute_result"
    }
   ],
   "source": [
    "LogReg = LogisticRegression()\n",
    "LogReg.fit(X_train, y_train)"
   ]
  },
  {
   "cell_type": "markdown",
   "metadata": {},
   "source": [
    "- Evaluation"
   ]
  },
  {
   "cell_type": "code",
   "execution_count": 98,
   "metadata": {},
   "outputs": [
    {
     "data": {
      "image/png": "[encoded data removed]",
      "text/plain": [
       "<Figure size 432x288 with 2 Axes>"
      ]
     },
     "metadata": {
      "needs_background": "light"
     },
     "output_type": "display_data"
    }
   ],
   "source": [
    "LogReg = LogisticRegression()\n",
    "LogReg.fit(X_train, y_train)\n",
    "LogReg_pred = LogReg.predict(X_test)\n",
    "cm = confusion_matrix(y_test,LogReg_pred)\n",
    "disp = ConfusionMatrixDisplay(confusion_matrix=cm, display_labels= LogReg.classes_)\n",
    "disp.plot()\n",
    "plt.show()"
   ]
  },
  {
   "cell_type": "code",
   "execution_count": 99,
   "metadata": {},
   "outputs": [
    {
     "name": "stdout",
     "output_type": "stream",
     "text": [
      "              precision    recall  f1-score   support\n",
      "\n",
      "           0       0.86      0.79      0.83        48\n",
      "           1       0.85      0.90      0.88        63\n",
      "\n",
      "    accuracy                           0.86       111\n",
      "   macro avg       0.86      0.85      0.85       111\n",
      "weighted avg       0.86      0.86      0.85       111\n",
      "\n"
     ]
    }
   ],
   "source": [
    "print(classification_report(y_test, LogReg_pred))"
   ]
  },
  {
   "cell_type": "markdown",
   "metadata": {},
   "source": [
    "- Comparing all our data sets"
   ]
  },
  {
   "cell_type": "code",
   "execution_count": 100,
   "metadata": {},
   "outputs": [
    {
     "name": "stdout",
     "output_type": "stream",
     "text": [
      "FILE:  bands_lin.csv\n",
      "Scores table:\n",
      "              precision    recall  f1-score   support\n",
      "\n",
      "           0       0.86      0.79      0.83        48\n",
      "           1       0.85      0.90      0.88        63\n",
      "\n",
      "    accuracy                           0.86       111\n",
      "   macro avg       0.86      0.85      0.85       111\n",
      "weighted avg       0.86      0.86      0.85       111\n",
      "\n",
      "Confusion Matrix:\n"
     ]
    },
    {
     "data": {
      "image/png": "[encoded data removed]",
      "text/plain": [
       "<Figure size 432x288 with 2 Axes>"
      ]
     },
     "metadata": {
      "needs_background": "light"
     },
     "output_type": "display_data"
    },
    {
     "name": "stdout",
     "output_type": "stream",
     "text": [
      "FILE:  bands_nolin.csv\n",
      "Scores table:\n",
      "              precision    recall  f1-score   support\n",
      "\n",
      "           0       0.83      0.73      0.78        48\n",
      "           1       0.81      0.89      0.85        63\n",
      "\n",
      "    accuracy                           0.82       111\n",
      "   macro avg       0.82      0.81      0.81       111\n",
      "weighted avg       0.82      0.82      0.82       111\n",
      "\n",
      "Confusion Matrix:\n"
     ]
    },
    {
     "data": {
      "image/png": "[encoded data removed]",
      "text/plain": [
       "<Figure size 432x288 with 2 Axes>"
      ]
     },
     "metadata": {
      "needs_background": "light"
     },
     "output_type": "display_data"
    },
    {
     "name": "stdout",
     "output_type": "stream",
     "text": [
      "FILE:  freq_raw.csv\n",
      "Scores table:\n",
      "              precision    recall  f1-score   support\n",
      "\n",
      "           0       0.85      0.81      0.83        48\n",
      "           1       0.86      0.89      0.88        63\n",
      "\n",
      "    accuracy                           0.86       111\n",
      "   macro avg       0.85      0.85      0.85       111\n",
      "weighted avg       0.86      0.86      0.86       111\n",
      "\n",
      "Confusion Matrix:\n"
     ]
    },
    {
     "data": {
      "image/png": "[encoded data removed]",
      "text/plain": [
       "<Figure size 432x288 with 2 Axes>"
      ]
     },
     "metadata": {
      "needs_background": "light"
     },
     "output_type": "display_data"
    },
    {
     "name": "stdout",
     "output_type": "stream",
     "text": [
      "FILE:  tonal_pitches.csv\n",
      "Scores table:\n",
      "              precision    recall  f1-score   support\n",
      "\n",
      "           0       0.74      0.52      0.61        48\n",
      "           1       0.70      0.86      0.77        63\n",
      "\n",
      "    accuracy                           0.71       111\n",
      "   macro avg       0.72      0.69      0.69       111\n",
      "weighted avg       0.72      0.71      0.70       111\n",
      "\n",
      "Confusion Matrix:\n"
     ]
    },
    {
     "data": {
      "image/png": "[encoded data removed]",
      "text/plain": [
       "<Figure size 432x288 with 2 Axes>"
      ]
     },
     "metadata": {
      "needs_background": "light"
     },
     "output_type": "display_data"
    }
   ],
   "source": [
    "import os\n",
    "\n",
    "directory = \"dataframes\"\n",
    "\n",
    "for file in os.listdir(directory):\n",
    "    \n",
    "    filename= \"dataframes/\" + file\n",
    "    \n",
    "    print(\"FILE: \", file)\n",
    "    print(\"Scores table:\")\n",
    "\n",
    "    df = pd.read_csv(filename)\n",
    "    X = df.drop(columns=['animal','file'], axis=1) \n",
    "    y = df['animal']\n",
    "    X_train, X_test, y_train, y_test = train_test_split(X, y,test_size=0.4, random_state=0)\n",
    "\n",
    "\n",
    "    cols = X_train.columns\n",
    "\n",
    "    scaler = RobustScaler()\n",
    "\n",
    "    X_train = scaler.fit_transform(X_train)\n",
    "\n",
    "    X_test = scaler.transform(X_test)\n",
    "    X_train = pd.DataFrame(X_train, columns=[cols])\n",
    "    X_test = pd.DataFrame(X_test, columns=[cols])\n",
    "    X_train.head()\n",
    "\n",
    "    LogReg = LogisticRegression(max_iter=1000)\n",
    "    LogReg.fit(X_train, y_train)\n",
    "\n",
    "    LogReg_pred = LogReg.predict(X_test)\n",
    "\n",
    "    print(classification_report(y_test, LogReg_pred))\n",
    "    print(\"Confusion Matrix:\")\n",
    "    cm = confusion_matrix(y_test,LogReg_pred)\n",
    "    disp = ConfusionMatrixDisplay(confusion_matrix=cm, display_labels= LogReg.classes_)\n",
    "    disp.plot()\n",
    "    plt.title(\"Confusion Matrix using: \" + file)\n",
    "    plt.show()"
   ]
  },
  {
   "cell_type": "markdown",
   "metadata": {},
   "source": [
    "The data set with better results using Logistic Regression was: \n",
    "- freq_raw.csv"
   ]
  },
  {
   "cell_type": "markdown",
   "metadata": {},
   "source": [
    "---\n",
    "\n",
    "## Support vector machine (SVM)\n",
    "\n",
    "---"
   ]
  },
  {
   "cell_type": "markdown",
   "metadata": {},
   "source": [
    "### $\\color{pink}{\\text{(1) Basic notions}}$\n",
    "\n",
    "- A support vector machine (SVM) is a supervised machine learning model that can be used for both classification or regression challenges. \n",
    "\n",
    "- This algorithm works by mapping data to a high-dimensional **feature space** so that data points can be categorized, even when the data are not otherwise linearly separable. Then, it performs classification by finding the hyper-plane that differentiates the two classes very well (decision boundary).\n",
    "\n",
    "- Support vectors: data points that define the margin (empty space between classes). The decision boundary depends on this data points.\n",
    "\n",
    "- Maximal margine: The solution maximizes the margin between the classes.\n",
    "\n",
    "<center><img src=\"svm.png\" width=\"500\" height=\"340\"></center>\n",
    "\n",
    "### $\\color{pink}{\\text{(3) Code}}$"
   ]
  },
  {
   "cell_type": "code",
   "execution_count": 101,
   "metadata": {},
   "outputs": [
    {
     "data": {
      "text/html": [
       "<style>#sk-container-id-7 {color: black;background-color: white;}#sk-container-id-7 pre{padding: 0;}#sk-container-id-7 div.sk-toggleable {background-color: white;}#sk-container-id-7 label.sk-toggleable__label {cursor: pointer;display: block;width: 100%;margin-bottom: 0;padding: 0.3em;box-sizing: border-box;text-align: center;}#sk-container-id-7 label.sk-toggleable__label-arrow:before {content: \"▸\";float: left;margin-right: 0.25em;color: #696969;}#sk-container-id-7 label.sk-toggleable__label-arrow:hover:before {color: black;}#sk-container-id-7 div.sk-estimator:hover label.sk-toggleable__label-arrow:before {color: black;}#sk-container-id-7 div.sk-toggleable__content {max-height: 0;max-width: 0;overflow: hidden;text-align: left;background-color: #f0f8ff;}#sk-container-id-7 div.sk-toggleable__content pre {margin: 0.2em;color: black;border-radius: 0.25em;background-color: #f0f8ff;}#sk-container-id-7 input.sk-toggleable__control:checked~div.sk-toggleable__content {max-height: 200px;max-width: 100%;overflow: auto;}#sk-container-id-7 input.sk-toggleable__control:checked~label.sk-toggleable__label-arrow:before {content: \"▾\";}#sk-container-id-7 div.sk-estimator input.sk-toggleable__control:checked~label.sk-toggleable__label {background-color: #d4ebff;}#sk-container-id-7 div.sk-label input.sk-toggleable__control:checked~label.sk-toggleable__label {background-color: #d4ebff;}#sk-container-id-7 input.sk-hidden--visually {border: 0;clip: rect(1px 1px 1px 1px);clip: rect(1px, 1px, 1px, 1px);height: 1px;margin: -1px;overflow: hidden;padding: 0;position: absolute;width: 1px;}#sk-container-id-7 div.sk-estimator {font-family: monospace;background-color: #f0f8ff;border: 1px dotted black;border-radius: 0.25em;box-sizing: border-box;margin-bottom: 0.5em;}#sk-container-id-7 div.sk-estimator:hover {background-color: #d4ebff;}#sk-container-id-7 div.sk-parallel-item::after {content: \"\";width: 100%;border-bottom: 1px solid gray;flex-grow: 1;}#sk-container-id-7 div.sk-label:hover label.sk-toggleable__label {background-color: #d4ebff;}#sk-container-id-7 div.sk-serial::before {content: \"\";position: absolute;border-left: 1px solid gray;box-sizing: border-box;top: 0;bottom: 0;left: 50%;z-index: 0;}#sk-container-id-7 div.sk-serial {display: flex;flex-direction: column;align-items: center;background-color: white;padding-right: 0.2em;padding-left: 0.2em;position: relative;}#sk-container-id-7 div.sk-item {position: relative;z-index: 1;}#sk-container-id-7 div.sk-parallel {display: flex;align-items: stretch;justify-content: center;background-color: white;position: relative;}#sk-container-id-7 div.sk-item::before, #sk-container-id-7 div.sk-parallel-item::before {content: \"\";position: absolute;border-left: 1px solid gray;box-sizing: border-box;top: 0;bottom: 0;left: 50%;z-index: -1;}#sk-container-id-7 div.sk-parallel-item {display: flex;flex-direction: column;z-index: 1;position: relative;background-color: white;}#sk-container-id-7 div.sk-parallel-item:first-child::after {align-self: flex-end;width: 50%;}#sk-container-id-7 div.sk-parallel-item:last-child::after {align-self: flex-start;width: 50%;}#sk-container-id-7 div.sk-parallel-item:only-child::after {width: 0;}#sk-container-id-7 div.sk-dashed-wrapped {border: 1px dashed gray;margin: 0 0.4em 0.5em 0.4em;box-sizing: border-box;padding-bottom: 0.4em;background-color: white;}#sk-container-id-7 div.sk-label label {font-family: monospace;font-weight: bold;display: inline-block;line-height: 1.2em;}#sk-container-id-7 div.sk-label-container {text-align: center;}#sk-container-id-7 div.sk-container {/* jupyter's `normalize.less` sets `[hidden] { display: none; }` but bootstrap.min.css set `[hidden] { display: none !important; }` so we also need the `!important` here to be able to override the default hidden behavior on the sphinx rendered scikit-learn.org. See: https://github.com/scikit-learn/scikit-learn/issues/21755 */display: inline-block !important;position: relative;}#sk-container-id-7 div.sk-text-repr-fallback {display: none;}</style><div id=\"sk-container-id-7\" class=\"sk-top-container\"><div class=\"sk-text-repr-fallback\"><pre>SVC(kernel=&#x27;linear&#x27;)</pre><b>In a Jupyter environment, please rerun this cell to show the HTML representation or trust the notebook. <br />On GitHub, the HTML representation is unable to render, please try loading this page with nbviewer.org.</b></div><div class=\"sk-container\" hidden><div class=\"sk-item\"><div class=\"sk-estimator sk-toggleable\"><input class=\"sk-toggleable__control sk-hidden--visually\" id=\"sk-estimator-id-7\" type=\"checkbox\" checked><label for=\"sk-estimator-id-7\" class=\"sk-toggleable__label sk-toggleable__label-arrow\">SVC</label><div class=\"sk-toggleable__content\"><pre>SVC(kernel=&#x27;linear&#x27;)</pre></div></div></div></div></div>"
      ],
      "text/plain": [
       "SVC(kernel='linear')"
      ]
     },
     "execution_count": 101,
     "metadata": {},
     "output_type": "execute_result"
    }
   ],
   "source": [
    "from sklearn import svm\n",
    "\n",
    "svc= svm.SVC(kernel='linear')\n",
    "svc.fit(X_train, y_train)"
   ]
  },
  {
   "cell_type": "code",
   "execution_count": 102,
   "metadata": {},
   "outputs": [
    {
     "name": "stdout",
     "output_type": "stream",
     "text": [
      "The best parameters are {'C': 1, 'kernel': 'rbf'} with a score of 0.78\n"
     ]
    }
   ],
   "source": [
    "from sklearn.model_selection import GridSearchCV \n",
    "\n",
    "parameters = {'kernel':('linear', 'rbf'), 'C':[0.1, 1, 10]} # Checking only three possible values for the C parameter\n",
    "svc = svm.SVC()\n",
    "clf = GridSearchCV(svc, parameters)\n",
    "clf.fit(X_train, y_train)\n",
    "\n",
    "print(\"The best parameters are {} with a score of {:0.2f}\".format(clf.best_params_, clf.best_score_))\n"
   ]
  },
  {
   "cell_type": "markdown",
   "metadata": {},
   "source": [
    "- Evaluation:"
   ]
  },
  {
   "cell_type": "code",
   "execution_count": 103,
   "metadata": {},
   "outputs": [
    {
     "data": {
      "image/png": "[encoded data removed]",
      "text/plain": [
       "<Figure size 432x288 with 2 Axes>"
      ]
     },
     "metadata": {
      "needs_background": "light"
     },
     "output_type": "display_data"
    }
   ],
   "source": [
    "predictions = clf.predict(X_test)\n",
    "cm = confusion_matrix(y_test,predictions)\n",
    "disp = ConfusionMatrixDisplay(confusion_matrix=cm, display_labels=clf.classes_)\n",
    "disp.plot()\n",
    "plt.show()"
   ]
  },
  {
   "cell_type": "code",
   "execution_count": 104,
   "metadata": {},
   "outputs": [
    {
     "name": "stdout",
     "output_type": "stream",
     "text": [
      "              precision    recall  f1-score   support\n",
      "\n",
      "           0       0.84      0.44      0.58        48\n",
      "           1       0.69      0.94      0.79        63\n",
      "\n",
      "    accuracy                           0.72       111\n",
      "   macro avg       0.76      0.69      0.68       111\n",
      "weighted avg       0.75      0.72      0.70       111\n",
      "\n"
     ]
    }
   ],
   "source": [
    "grid_predictions = clf.predict(X_test)\n",
    "\n",
    "print(classification_report(y_test, grid_predictions))"
   ]
  },
  {
   "cell_type": "markdown",
   "metadata": {},
   "source": [
    "- Comparing all data sets"
   ]
  },
  {
   "cell_type": "code",
   "execution_count": 110,
   "metadata": {},
   "outputs": [
    {
     "name": "stdout",
     "output_type": "stream",
     "text": [
      "FILE:  bands_lin.csv\n",
      "Classification report:\n",
      "The best parameters are {'C': 0.1, 'kernel': 'linear'} with a score of 0.86\n",
      "              precision    recall  f1-score   support\n",
      "\n",
      "           0       0.90      0.77      0.83        48\n",
      "           1       0.84      0.94      0.89        63\n",
      "\n",
      "    accuracy                           0.86       111\n",
      "   macro avg       0.87      0.85      0.86       111\n",
      "weighted avg       0.87      0.86      0.86       111\n",
      "\n",
      "Confusion Matrix:\n"
     ]
    },
    {
     "data": {
      "image/png": "[encoded data removed]",
      "text/plain": [
       "<Figure size 432x288 with 2 Axes>"
      ]
     },
     "metadata": {
      "needs_background": "light"
     },
     "output_type": "display_data"
    },
    {
     "name": "stdout",
     "output_type": "stream",
     "text": [
      "FILE:  bands_nolin.csv\n",
      "Classification report:\n",
      "The best parameters are {'C': 10, 'kernel': 'linear'} with a score of 0.87\n",
      "              precision    recall  f1-score   support\n",
      "\n",
      "           0       0.79      0.71      0.75        48\n",
      "           1       0.79      0.86      0.82        63\n",
      "\n",
      "    accuracy                           0.79       111\n",
      "   macro avg       0.79      0.78      0.79       111\n",
      "weighted avg       0.79      0.79      0.79       111\n",
      "\n",
      "Confusion Matrix:\n"
     ]
    },
    {
     "data": {
      "image/png": "[encoded data removed]",
      "text/plain": [
       "<Figure size 432x288 with 2 Axes>"
      ]
     },
     "metadata": {
      "needs_background": "light"
     },
     "output_type": "display_data"
    },
    {
     "name": "stdout",
     "output_type": "stream",
     "text": [
      "FILE:  freq_raw.csv\n",
      "Classification report:\n",
      "The best parameters are {'C': 1, 'kernel': 'rbf'} with a score of 0.87\n",
      "              precision    recall  f1-score   support\n",
      "\n",
      "           0       0.90      0.75      0.82        48\n",
      "           1       0.83      0.94      0.88        63\n",
      "\n",
      "    accuracy                           0.86       111\n",
      "   macro avg       0.87      0.84      0.85       111\n",
      "weighted avg       0.86      0.86      0.85       111\n",
      "\n",
      "Confusion Matrix:\n"
     ]
    },
    {
     "data": {
      "image/png": "[encoded data removed]",
      "text/plain": [
       "<Figure size 432x288 with 2 Axes>"
      ]
     },
     "metadata": {
      "needs_background": "light"
     },
     "output_type": "display_data"
    },
    {
     "name": "stdout",
     "output_type": "stream",
     "text": [
      "FILE:  tonal_pitches.csv\n",
      "Classification report:\n",
      "The best parameters are {'C': 1, 'kernel': 'rbf'} with a score of 0.78\n",
      "              precision    recall  f1-score   support\n",
      "\n",
      "           0       0.84      0.44      0.58        48\n",
      "           1       0.69      0.94      0.79        63\n",
      "\n",
      "    accuracy                           0.72       111\n",
      "   macro avg       0.76      0.69      0.68       111\n",
      "weighted avg       0.75      0.72      0.70       111\n",
      "\n",
      "Confusion Matrix:\n"
     ]
    },
    {
     "data": {
      "image/png": "[encoded data removed]",
      "text/plain": [
       "<Figure size 432x288 with 2 Axes>"
      ]
     },
     "metadata": {
      "needs_background": "light"
     },
     "output_type": "display_data"
    }
   ],
   "source": [
    "for file in os.listdir(directory):\n",
    "    \n",
    "    filename= \"dataframes/\" + file\n",
    "    \n",
    "    print(\"FILE: \", file)\n",
    "    print(\"Classification report:\")\n",
    "\n",
    "    df = pd.read_csv(filename)\n",
    "    X = df.drop(columns=['animal','file'], axis=1) \n",
    "    y = df['animal']\n",
    "    X_train, X_test, y_train, y_test = train_test_split(X, y,test_size=0.4, random_state=0)\n",
    "\n",
    "    cols = X_train.columns\n",
    "\n",
    "    scaler = RobustScaler()\n",
    "\n",
    "    X_train = scaler.fit_transform(X_train)\n",
    "\n",
    "    X_test = scaler.transform(X_test)\n",
    "    X_train = pd.DataFrame(X_train, columns=[cols])\n",
    "    X_test = pd.DataFrame(X_test, columns=[cols])\n",
    "    X_train.head()\n",
    "\n",
    "    parameters = {'kernel':('linear', 'rbf'), 'C':[0.1, 1, 10]} # Checking only three possible values for the C parameter\n",
    "    svc = svm.SVC()\n",
    "    clf = GridSearchCV(svc, parameters)\n",
    "    clf.fit(X_train, y_train)\n",
    "\n",
    "    print(\"The best parameters are {} with a score of {:0.2f}\".format(clf.best_params_, clf.best_score_))\n",
    "    \n",
    "    predictions = clf.predict(X_test)\n",
    "   \n",
    "    print(classification_report(y_test, predictions))\n",
    "    print(\"Confusion Matrix:\")\n",
    "    \n",
    "    cm = confusion_matrix(y_test,predictions)\n",
    "    disp = ConfusionMatrixDisplay(confusion_matrix=cm, display_labels=clf.classes_)\n",
    "    disp.plot()\n",
    "    plt.show()"
   ]
  },
  {
   "cell_type": "markdown",
   "metadata": {},
   "source": [
    "The data set with better results using Logistic Regression was: \n",
    "- bands_lin.csv"
   ]
  },
  {
   "cell_type": "markdown",
   "metadata": {},
   "source": [
    "---\n",
    "\n",
    "## k-NN (k-nearest neighbours) \n",
    "\n",
    "---"
   ]
  },
  {
   "cell_type": "markdown",
   "metadata": {},
   "source": [
    "### $\\color{pink}{\\text{(1) Basic notions}}$\n",
    "\n",
    "K-NN is a supervised machine learning model that can be used for both classification or regression challenges. This algorithm assumes that similar things exist in close proximity. In other words, similar things are near to each other.\n",
    "\n",
    "K-NN tries to predict the correct class for the test data by calculating the distance between the test data and all the training points. Then select the K number of points which is closet to the test data. The KNN algorithm calculates the probability of the test data belonging to the classes of ‘K’ training data and class holds the highest probability will be selected.\n",
    "\n",
    "### $\\color{pink}{\\text{(3) Code}}$\n",
    "\n",
    "For this project, we tested K-NN algorithm with different numbers of neighbours (K) to check which of them had the best performance while applied to our data. The results were as follows:"
   ]
  },
  {
   "cell_type": "code",
   "execution_count": 111,
   "metadata": {},
   "outputs": [
    {
     "name": "stdout",
     "output_type": "stream",
     "text": [
      "Number of Neighbors: 1\n",
      "The accuracy: 0.6306306306306306\n",
      "Number of Neighbors: 5\n",
      "The accuracy: 0.7027027027027027\n",
      "Number of Neighbors: 10\n",
      "The accuracy: 0.6666666666666666\n",
      "Number of Neighbors: 15\n",
      "The accuracy: 0.6846846846846847\n",
      "Number of Neighbors: 20\n",
      "The accuracy: 0.6756756756756757\n",
      "Number of Neighbors: 25\n",
      "The accuracy: 0.6846846846846847\n"
     ]
    }
   ],
   "source": [
    "from sklearn.neighbors import KNeighborsClassifier\n",
    "\n",
    "for n_neighbors in [1,5,10,15,20,25]:\n",
    "\n",
    "    clf = KNeighborsClassifier(n_neighbors)\n",
    "    clf.fit(X_train, y_train)\n",
    "\n",
    "    print(\"Number of Neighbors:\", str(n_neighbors))\n",
    "    print(\"The accuracy:\", clf.score(X_test, y_test))"
   ]
  },
  {
   "cell_type": "markdown",
   "metadata": {},
   "source": [
    "**Observation:** It is important to choose wisely the K value. For low values of K, the classifier overfits the data. As we increase the K value we achieve a correct classification. However, if K is too large we might start underfitting the data. This fact is refected on the Accuracy of each classifier. The higher accuracy was obtained using K = 10, and with lower and higher values of K the accuracy obtained was lower.\n",
    "\n",
    "- Evaluation"
   ]
  },
  {
   "cell_type": "code",
   "execution_count": 112,
   "metadata": {},
   "outputs": [
    {
     "data": {
      "image/png": "[encoded data removed]",
      "text/plain": [
       "<Figure size 432x288 with 2 Axes>"
      ]
     },
     "metadata": {
      "needs_background": "light"
     },
     "output_type": "display_data"
    }
   ],
   "source": [
    "knn = KNeighborsClassifier(10) #We select K=10, the highest accuracy\n",
    "knn.fit(X_train, y_train)\n",
    "\n",
    "knn_predictions = knn.predict(X_test)\n",
    "cm = confusion_matrix(y_test,knn_predictions)\n",
    "disp = ConfusionMatrixDisplay(confusion_matrix=cm, display_labels=knn.classes_)\n",
    "disp.plot()\n",
    "plt.show()"
   ]
  },
  {
   "cell_type": "code",
   "execution_count": null,
   "metadata": {},
   "outputs": [
    {
     "name": "stdout",
     "output_type": "stream",
     "text": [
      "              precision    recall  f1-score   support\n",
      "\n",
      "           0       0.65      0.50      0.56        48\n",
      "           1       0.68      0.79      0.73        63\n",
      "\n",
      "    accuracy                           0.67       111\n",
      "   macro avg       0.66      0.65      0.65       111\n",
      "weighted avg       0.66      0.67      0.66       111\n",
      "\n"
     ]
    }
   ],
   "source": [
    "print(classification_report(y_test, knn_predictions))"
   ]
  },
  {
   "cell_type": "markdown",
   "metadata": {},
   "source": [
    "---\n",
    "\n",
    "## Naïve Bayes Classification\n",
    "\n",
    "---"
   ]
  },
  {
   "cell_type": "markdown",
   "metadata": {},
   "source": [
    "### $\\color{pink}{\\text{(1) Basic notions}}$\n",
    "\n",
    "- Bayes Theorem\n",
    "\n",
    "Given an hypothesis H and evidence E, **Bayes Theorem** states that the relationship between the probability of the hypothesis before getting the evidence P(E) and the probability of the hypothesis after getting the evidence P(H|E) is:\n",
    "\n",
    "\n",
    "$$ P(H|E) = \\frac{P(E|H)P(H)}{P(E)} $$ \n",
    "\n",
    "$\\color{purple}{\\text{P(H|E)}}$ → **Posterior:** How probable is the hypothesis, given the observed evidence?\n",
    "\n",
    "$\\color{lightblue}{\\text{P(E|H)}}$ → **Likelihood:** How probable is the evidence, given that the hypothesis is true?\n",
    "\n",
    "$\\color{pink}{\\text{P(H)}}$ → **Prior:** How probable was the hypothesis before observing the evidence?\n",
    "\n",
    "$\\color{lightgreen}{\\text{P(E)}}$ → **Marginal:** How probable is the evidence under all possible hypothesis?\n",
    "\n",
    "- Naïve Bayes\n",
    "\n",
    "**Naïve Bayes** algorithm is simple but powerful supervised learning algorithm, which is based on **Bayes theorem** and is used for solving classification problems. This probabilistic algorithm is considered naive because the assumptions the algorithm makes are virtually impossible to find in real-life data. It uses conditional probability to calculate a product of individual probabilities of components, so it assumes an absolute independence of features.\n",
    "\n",
    "### $\\color{pink}{\\text{(2) Code}}$\n",
    "\n",
    "- Observation\n",
    "\n",
    "The following correlation matrix shows that the assumption of the Naive Bayes algorithm (absolute independence between features) is not true, so the features are clearly correlated in real-world problems. However, let's test the performance of this algorithm.\n"
   ]
  },
  {
   "cell_type": "code",
   "execution_count": null,
   "metadata": {},
   "outputs": [
    {
     "data": {
      "image/png": "[encoded data removed]",
      "text/plain": [
       "<Figure size 288x288 with 1 Axes>"
      ]
     },
     "metadata": {
      "needs_background": "light"
     },
     "output_type": "display_data"
    }
   ],
   "source": [
    "plt.matshow(df.corr())\n",
    "plt.show()"
   ]
  },
  {
   "cell_type": "markdown",
   "metadata": {},
   "source": [
    "- Gaussian Naive Bayes \n",
    "\n",
    "Gaussian Naive Bayes is used for numerical / continuous features. The distribution of continues values are \"assumed\" to be Gaussian. And therefore the likelihood probabilities are computed based on Gaussian distribution."
   ]
  },
  {
   "cell_type": "code",
   "execution_count": null,
   "metadata": {},
   "outputs": [
    {
     "name": "stdout",
     "output_type": "stream",
     "text": [
      "Accuracy obtained: 0.6846846846846847\n"
     ]
    },
    {
     "data": {
      "text/plain": [
       "array([0.85714286, 0.54285714, 0.6       , 0.68571429, 0.6       ,\n",
       "       0.58823529, 0.70588235, 0.79411765])"
      ]
     },
     "execution_count": 52,
     "metadata": {},
     "output_type": "execute_result"
    }
   ],
   "source": [
    "model = GaussianNB()\n",
    "model.fit(X_train,y_train)\n",
    "\n",
    "print(\"Accuracy obtained:\", model.score(X_test, y_test))\n",
    "\n",
    "\"\"\"\n",
    "The cross_val_score() function will be used to perform the evaluation, \n",
    "taking the dataset and cross-validation configuration and returning a list \n",
    "of scores calculated for each fold.\n",
    "\"\"\"\n",
    "\n",
    "cross_val_score(model, X, y, cv=8)"
   ]
  },
  {
   "cell_type": "markdown",
   "metadata": {},
   "source": [
    "- Evaluation"
   ]
  },
  {
   "cell_type": "code",
   "execution_count": null,
   "metadata": {},
   "outputs": [
    {
     "data": {
      "image/png": "[encoded data removed]",
      "text/plain": [
       "<Figure size 432x288 with 2 Axes>"
      ]
     },
     "metadata": {
      "needs_background": "light"
     },
     "output_type": "display_data"
    }
   ],
   "source": [
    "nb_predictions = model.predict(X_test)\n",
    "cm = confusion_matrix(y_test,nb_predictions)\n",
    "disp = ConfusionMatrixDisplay(confusion_matrix=cm, display_labels=model.classes_)\n",
    "disp.plot()\n",
    "plt.show()"
   ]
  },
  {
   "cell_type": "code",
   "execution_count": null,
   "metadata": {},
   "outputs": [
    {
     "name": "stdout",
     "output_type": "stream",
     "text": [
      "              precision    recall  f1-score   support\n",
      "\n",
      "           0       0.66      0.56      0.61        48\n",
      "           1       0.70      0.78      0.74        63\n",
      "\n",
      "    accuracy                           0.68       111\n",
      "   macro avg       0.68      0.67      0.67       111\n",
      "weighted avg       0.68      0.68      0.68       111\n",
      "\n"
     ]
    }
   ],
   "source": [
    "print(classification_report(y_test, nb_predictions))"
   ]
  },
  {
   "cell_type": "markdown",
   "metadata": {},
   "source": [
    "---\n",
    "\n",
    "## Results\n",
    "\n",
    "---\n",
    "- Table with the obtained Accuracy for each meathod\n",
    "\n",
    "<center>\n",
    "\n",
    "|         Method         |  Accuracy  |    File      |\n",
    "|------------------------|------------|--------------|\n",
    "| Logistic Regression    | 0.86       | freq_raw.csv |\n",
    "| kNN (K = 5)            | 0.85       |\n",
    "| SVM (Linear, C=0.1)    | 0.88       |\n",
    "| Naïve Bayes            | 0.77       |\n",
    "\n",
    "</center>\n",
    "\n",
    "- Conclusion"
   ]
  }
 ],
 "metadata": {
  "kernelspec": {
   "display_name": "Python 3.9.13 64-bit (microsoft store)",
   "language": "python",
   "name": "python3"
  },
  "language_info": {
   "codemirror_mode": {
    "name": "ipython",
    "version": 3
   },
   "file_extension": ".py",
   "mimetype": "text/x-python",
   "name": "python",
   "nbconvert_exporter": "python",
   "pygments_lexer": "ipython3",
   "version": "3.9.13"
  },
  "orig_nbformat": 4,
  "vscode": {
   "interpreter": {
    "hash": "0d1831cf2689b5dba254f99187bb279cf01a82452f16d45465929cbbf5686504"
   }
  }
 },
 "nbformat": 4,
 "nbformat_minor": 2
}
