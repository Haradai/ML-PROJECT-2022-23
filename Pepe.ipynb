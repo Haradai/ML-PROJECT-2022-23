{
 "cells": [
  {
   "cell_type": "code",
   "execution_count": null,
   "metadata": {},
   "outputs": [],
   "source": []
  }
 ],
 "metadata": {
  "kernelspec": {
   "display_name": "Python 3.9.13 64-bit (microsoft store)",
   "language": "python",
   "name": "python3"
  },
  "language_info": {
   "name": "python",
   "version": "3.9.13"
  },
  "orig_nbformat": 4,
  "vscode": {
   "interpreter": {
    "hash": "0d1831cf2689b5dba254f99187bb279cf01a82452f16d45465929cbbf5686504"
   }
  }
 },
 "nbformat": 4,
 "nbformat_minor": 2
}
