{
 "cells": [
  {
   "cell_type": "markdown",
   "metadata": {},
   "source": [
    "---\n",
    "\n",
    "## Naïve Bayes Classification\n",
    "\n",
    "---"
   ]
  },
  {
   "cell_type": "markdown",
   "metadata": {},
   "source": [
    "### $\\color{pink}{\\text{(1) Some basic notions}}$\n",
    "\n",
    "**Naïve Bayes** is a simple but powerful algorithm for predictive modeling.\n",
    "\n",
    "Given an hypothesis H and evidence E, **Bayes' theorem** states that the relationship between the probability of the hypothesis before getting the evidence P(E) and the probability of the hypothesis after getting the evidence P(H|E) is:\n",
    "\n",
    "\n",
    "$$ P(H|E) = \\frac{P(E|H)P(H)}{P(E)} $$ \n",
    "\n",
    "$\\color{purple}{\\text{P(H|E)}}$ → **Posterior:** How probable is the hypothesis, given the observed evidence?\n",
    "\n",
    "$\\color{pink}{\\text{P(H)}}$ → **Prior:** How probable was the hypothesis before observing the evidence?\n",
    "\n",
    "$\\color{lightblue}{\\text{P(E|H)}}$ → **Likelihood:** How probable is the evidence, given that the hypothesis is true?\n",
    "\n",
    "$\\color{lightgreen}{\\text{P(E)}}$ → **Marginal:** How probable is the evidence under all possible hypothesis?\n",
    "\n",
    "### $\\color{pink}{\\text{(2) Dealing with not-categorical data}}$\n",
    "### $\\color{pink}{\\text{(3) Code}}$\n",
    "\n",
    "- Import the necessary libraries"
   ]
  },
  {
   "cell_type": "code",
   "execution_count": 1,
   "metadata": {},
   "outputs": [],
   "source": [
    "import pandas as pd\n",
    "import numpy as np\n",
    "import matplotlib.pyplot as plt\n",
    "import seaborn as sb\n",
    "from sklearn.naive_bayes import GaussianNB\n",
    "from sklearn.model_selection import train_test_split\n",
    "from sklearn.model_selection import cross_val_score"
   ]
  },
  {
   "cell_type": "markdown",
   "metadata": {},
   "source": [
    "- Import dataset"
   ]
  },
  {
   "cell_type": "code",
   "execution_count": 2,
   "metadata": {},
   "outputs": [],
   "source": [
    "filename = \"dataframes/freq_raw.csv\"\n",
    "df = pd.read_csv(filename)"
   ]
  },
  {
   "cell_type": "code",
   "execution_count": 3,
   "metadata": {},
   "outputs": [
    {
     "data": {
      "text/html": [
       "<div>\n",
       "<style scoped>\n",
       "    .dataframe tbody tr th:only-of-type {\n",
       "        vertical-align: middle;\n",
       "    }\n",
       "\n",
       "    .dataframe tbody tr th {\n",
       "        vertical-align: top;\n",
       "    }\n",
       "\n",
       "    .dataframe thead th {\n",
       "        text-align: right;\n",
       "    }\n",
       "</style>\n",
       "<table border=\"1\" class=\"dataframe\">\n",
       "  <thead>\n",
       "    <tr style=\"text-align: right;\">\n",
       "      <th></th>\n",
       "      <th>file</th>\n",
       "      <th>animal</th>\n",
       "      <th>freq0</th>\n",
       "      <th>freq1</th>\n",
       "      <th>freq2</th>\n",
       "      <th>freq3</th>\n",
       "      <th>freq4</th>\n",
       "      <th>freq5</th>\n",
       "      <th>freq6</th>\n",
       "      <th>freq7</th>\n",
       "      <th>...</th>\n",
       "      <th>freq241</th>\n",
       "      <th>freq242</th>\n",
       "      <th>freq243</th>\n",
       "      <th>freq244</th>\n",
       "      <th>freq245</th>\n",
       "      <th>freq246</th>\n",
       "      <th>freq247</th>\n",
       "      <th>freq248</th>\n",
       "      <th>freq249</th>\n",
       "      <th>freq250</th>\n",
       "    </tr>\n",
       "  </thead>\n",
       "  <tbody>\n",
       "    <tr>\n",
       "      <th>0</th>\n",
       "      <td>audio-dataset/cats_dogs/cat_74.wav</td>\n",
       "      <td>1</td>\n",
       "      <td>8.086168</td>\n",
       "      <td>6.813196</td>\n",
       "      <td>0.651597</td>\n",
       "      <td>-6.359843</td>\n",
       "      <td>-10.394340</td>\n",
       "      <td>-11.307176</td>\n",
       "      <td>-14.386157</td>\n",
       "      <td>-16.761415</td>\n",
       "      <td>...</td>\n",
       "      <td>-50.192669</td>\n",
       "      <td>-50.192669</td>\n",
       "      <td>-50.192669</td>\n",
       "      <td>-50.192669</td>\n",
       "      <td>-50.192669</td>\n",
       "      <td>-50.192669</td>\n",
       "      <td>-50.192669</td>\n",
       "      <td>-50.192669</td>\n",
       "      <td>-50.192669</td>\n",
       "      <td>-50.192669</td>\n",
       "    </tr>\n",
       "    <tr>\n",
       "      <th>1</th>\n",
       "      <td>audio-dataset/cats_dogs/dog_barking_63.wav</td>\n",
       "      <td>0</td>\n",
       "      <td>-14.020511</td>\n",
       "      <td>-17.609503</td>\n",
       "      <td>-29.791566</td>\n",
       "      <td>-31.501912</td>\n",
       "      <td>-32.045335</td>\n",
       "      <td>-29.771676</td>\n",
       "      <td>-20.327771</td>\n",
       "      <td>-11.130250</td>\n",
       "      <td>...</td>\n",
       "      <td>-42.455536</td>\n",
       "      <td>-42.455536</td>\n",
       "      <td>-42.455536</td>\n",
       "      <td>-42.455536</td>\n",
       "      <td>-42.455536</td>\n",
       "      <td>-42.455536</td>\n",
       "      <td>-42.455536</td>\n",
       "      <td>-42.455536</td>\n",
       "      <td>-42.455536</td>\n",
       "      <td>-42.455536</td>\n",
       "    </tr>\n",
       "    <tr>\n",
       "      <th>2</th>\n",
       "      <td>audio-dataset/cats_dogs/cat_60.wav</td>\n",
       "      <td>1</td>\n",
       "      <td>9.887736</td>\n",
       "      <td>20.227963</td>\n",
       "      <td>18.509231</td>\n",
       "      <td>1.091707</td>\n",
       "      <td>2.596950</td>\n",
       "      <td>-2.524327</td>\n",
       "      <td>6.518483</td>\n",
       "      <td>11.146668</td>\n",
       "      <td>...</td>\n",
       "      <td>-38.824154</td>\n",
       "      <td>-38.824154</td>\n",
       "      <td>-38.824154</td>\n",
       "      <td>-38.824154</td>\n",
       "      <td>-38.824154</td>\n",
       "      <td>-38.824154</td>\n",
       "      <td>-38.824154</td>\n",
       "      <td>-38.824154</td>\n",
       "      <td>-38.824154</td>\n",
       "      <td>-38.824154</td>\n",
       "    </tr>\n",
       "    <tr>\n",
       "      <th>3</th>\n",
       "      <td>audio-dataset/cats_dogs/dog_barking_77.wav</td>\n",
       "      <td>0</td>\n",
       "      <td>-12.092080</td>\n",
       "      <td>-15.625075</td>\n",
       "      <td>-23.819625</td>\n",
       "      <td>-10.038227</td>\n",
       "      <td>-2.145106</td>\n",
       "      <td>-0.567936</td>\n",
       "      <td>-9.483675</td>\n",
       "      <td>-4.013952</td>\n",
       "      <td>...</td>\n",
       "      <td>-41.520092</td>\n",
       "      <td>-41.520092</td>\n",
       "      <td>-41.520092</td>\n",
       "      <td>-41.520092</td>\n",
       "      <td>-41.520092</td>\n",
       "      <td>-41.520092</td>\n",
       "      <td>-41.520092</td>\n",
       "      <td>-41.520092</td>\n",
       "      <td>-41.520092</td>\n",
       "      <td>-41.520092</td>\n",
       "    </tr>\n",
       "    <tr>\n",
       "      <th>4</th>\n",
       "      <td>audio-dataset/cats_dogs/cat_48.wav</td>\n",
       "      <td>1</td>\n",
       "      <td>-30.140636</td>\n",
       "      <td>-24.407700</td>\n",
       "      <td>-20.097540</td>\n",
       "      <td>-20.254327</td>\n",
       "      <td>-23.591153</td>\n",
       "      <td>-24.497132</td>\n",
       "      <td>-23.473559</td>\n",
       "      <td>-23.738149</td>\n",
       "      <td>...</td>\n",
       "      <td>-40.019665</td>\n",
       "      <td>-40.019665</td>\n",
       "      <td>-40.019665</td>\n",
       "      <td>-40.019665</td>\n",
       "      <td>-40.019665</td>\n",
       "      <td>-40.019665</td>\n",
       "      <td>-40.019665</td>\n",
       "      <td>-40.019665</td>\n",
       "      <td>-40.019665</td>\n",
       "      <td>-40.019665</td>\n",
       "    </tr>\n",
       "  </tbody>\n",
       "</table>\n",
       "<p>5 rows × 253 columns</p>\n",
       "</div>"
      ],
      "text/plain": [
       "                                         file  animal      freq0      freq1  \\\n",
       "0          audio-dataset/cats_dogs/cat_74.wav       1   8.086168   6.813196   \n",
       "1  audio-dataset/cats_dogs/dog_barking_63.wav       0 -14.020511 -17.609503   \n",
       "2          audio-dataset/cats_dogs/cat_60.wav       1   9.887736  20.227963   \n",
       "3  audio-dataset/cats_dogs/dog_barking_77.wav       0 -12.092080 -15.625075   \n",
       "4          audio-dataset/cats_dogs/cat_48.wav       1 -30.140636 -24.407700   \n",
       "\n",
       "       freq2      freq3      freq4      freq5      freq6      freq7  ...  \\\n",
       "0   0.651597  -6.359843 -10.394340 -11.307176 -14.386157 -16.761415  ...   \n",
       "1 -29.791566 -31.501912 -32.045335 -29.771676 -20.327771 -11.130250  ...   \n",
       "2  18.509231   1.091707   2.596950  -2.524327   6.518483  11.146668  ...   \n",
       "3 -23.819625 -10.038227  -2.145106  -0.567936  -9.483675  -4.013952  ...   \n",
       "4 -20.097540 -20.254327 -23.591153 -24.497132 -23.473559 -23.738149  ...   \n",
       "\n",
       "     freq241    freq242    freq243    freq244    freq245    freq246  \\\n",
       "0 -50.192669 -50.192669 -50.192669 -50.192669 -50.192669 -50.192669   \n",
       "1 -42.455536 -42.455536 -42.455536 -42.455536 -42.455536 -42.455536   \n",
       "2 -38.824154 -38.824154 -38.824154 -38.824154 -38.824154 -38.824154   \n",
       "3 -41.520092 -41.520092 -41.520092 -41.520092 -41.520092 -41.520092   \n",
       "4 -40.019665 -40.019665 -40.019665 -40.019665 -40.019665 -40.019665   \n",
       "\n",
       "     freq247    freq248    freq249    freq250  \n",
       "0 -50.192669 -50.192669 -50.192669 -50.192669  \n",
       "1 -42.455536 -42.455536 -42.455536 -42.455536  \n",
       "2 -38.824154 -38.824154 -38.824154 -38.824154  \n",
       "3 -41.520092 -41.520092 -41.520092 -41.520092  \n",
       "4 -40.019665 -40.019665 -40.019665 -40.019665  \n",
       "\n",
       "[5 rows x 253 columns]"
      ]
     },
     "execution_count": 3,
     "metadata": {},
     "output_type": "execute_result"
    }
   ],
   "source": [
    "df.head()"
   ]
  },
  {
   "cell_type": "markdown",
   "metadata": {},
   "source": [
    "Histogram df [ \"freq0\" ]:"
   ]
  },
  {
   "cell_type": "code",
   "execution_count": 4,
   "metadata": {},
   "outputs": [
    {
     "data": {
      "text/plain": [
       "<AxesSubplot:>"
      ]
     },
     "execution_count": 4,
     "metadata": {},
     "output_type": "execute_result"
    },
    {
     "data": {
      "image/png": "[encoded data removed]",
      "text/plain": [
       "<Figure size 432x288 with 1 Axes>"
      ]
     },
     "metadata": {
      "needs_background": "light"
     },
     "output_type": "display_data"
    }
   ],
   "source": [
    "df[\"freq0\"].hist()"
   ]
  },
  {
   "cell_type": "markdown",
   "metadata": {},
   "source": [
    "Plot to see correlation between features:"
   ]
  },
  {
   "cell_type": "code",
   "execution_count": 5,
   "metadata": {},
   "outputs": [
    {
     "data": {
      "image/png": "[encoded data removed]",
      "text/plain": [
       "<Figure size 288x288 with 1 Axes>"
      ]
     },
     "metadata": {
      "needs_background": "light"
     },
     "output_type": "display_data"
    }
   ],
   "source": [
    "plt.matshow(df.corr())\n",
    "plt.show()"
   ]
  },
  {
   "cell_type": "markdown",
   "metadata": {},
   "source": [
    "Some plots:"
   ]
  },
  {
   "cell_type": "code",
   "execution_count": 6,
   "metadata": {},
   "outputs": [
    {
     "data": {
      "image/png": "[encoded data removed]",
      "text/plain": [
       "<Figure size 432x288 with 1 Axes>"
      ]
     },
     "metadata": {
      "needs_background": "light"
     },
     "output_type": "display_data"
    }
   ],
   "source": [
    "D = df[df['animal'] == 0]\n",
    "C = df[df['animal'] == 1]\n",
    "\n",
    "plt.title(\"Dogs vs Catas\")\n",
    "plt.xlabel(\"****\")\n",
    "plt.ylabel(\"***\")\n",
    "plt.scatter(C.freq0, C.freq250, color = \"red\", label = \"Cats\",alpha = 0.3)\n",
    "plt.scatter(D.freq0,D.freq250, color = \"lime\", label = \"Dogs\",alpha = 0.3)\n",
    "plt.legend()\n",
    "plt.show()"
   ]
  },
  {
   "cell_type": "markdown",
   "metadata": {},
   "source": [
    "- Declare feature vector and target vector."
   ]
  },
  {
   "cell_type": "code",
   "execution_count": 7,
   "metadata": {},
   "outputs": [],
   "source": [
    "X = df.drop(columns=['animal','file'], axis=1) \n",
    "y = df['animal']"
   ]
  },
  {
   "cell_type": "markdown",
   "metadata": {},
   "source": [
    "- Split data into into separate training and test sets."
   ]
  },
  {
   "cell_type": "code",
   "execution_count": 8,
   "metadata": {},
   "outputs": [],
   "source": [
    "X_train, X_test, y_train, y_test = train_test_split(X, y,test_size=0.4, random_state=0)"
   ]
  },
  {
   "cell_type": "code",
   "execution_count": 9,
   "metadata": {},
   "outputs": [
    {
     "data": {
      "text/plain": [
       "freq0      float64\n",
       "freq1      float64\n",
       "freq2      float64\n",
       "freq3      float64\n",
       "freq4      float64\n",
       "            ...   \n",
       "freq246    float64\n",
       "freq247    float64\n",
       "freq248    float64\n",
       "freq249    float64\n",
       "freq250    float64\n",
       "Length: 251, dtype: object"
      ]
     },
     "execution_count": 9,
     "metadata": {},
     "output_type": "execute_result"
    }
   ],
   "source": [
    "X_train.dtypes"
   ]
  },
  {
   "cell_type": "markdown",
   "metadata": {},
   "source": [
    "- Feature scaling"
   ]
  },
  {
   "cell_type": "code",
   "execution_count": 10,
   "metadata": {},
   "outputs": [
    {
     "data": {
      "text/html": [
       "<div>\n",
       "<style scoped>\n",
       "    .dataframe tbody tr th:only-of-type {\n",
       "        vertical-align: middle;\n",
       "    }\n",
       "\n",
       "    .dataframe tbody tr th {\n",
       "        vertical-align: top;\n",
       "    }\n",
       "\n",
       "    .dataframe thead tr th {\n",
       "        text-align: left;\n",
       "    }\n",
       "</style>\n",
       "<table border=\"1\" class=\"dataframe\">\n",
       "  <thead>\n",
       "    <tr>\n",
       "      <th></th>\n",
       "      <th>freq0</th>\n",
       "      <th>freq1</th>\n",
       "      <th>freq2</th>\n",
       "      <th>freq3</th>\n",
       "      <th>freq4</th>\n",
       "      <th>freq5</th>\n",
       "      <th>freq6</th>\n",
       "      <th>freq7</th>\n",
       "      <th>freq8</th>\n",
       "      <th>freq9</th>\n",
       "      <th>...</th>\n",
       "      <th>freq241</th>\n",
       "      <th>freq242</th>\n",
       "      <th>freq243</th>\n",
       "      <th>freq244</th>\n",
       "      <th>freq245</th>\n",
       "      <th>freq246</th>\n",
       "      <th>freq247</th>\n",
       "      <th>freq248</th>\n",
       "      <th>freq249</th>\n",
       "      <th>freq250</th>\n",
       "    </tr>\n",
       "  </thead>\n",
       "  <tbody>\n",
       "    <tr>\n",
       "      <th>0</th>\n",
       "      <td>0.272207</td>\n",
       "      <td>0.232127</td>\n",
       "      <td>0.097951</td>\n",
       "      <td>-0.045612</td>\n",
       "      <td>-0.387230</td>\n",
       "      <td>-0.658945</td>\n",
       "      <td>-0.540858</td>\n",
       "      <td>-0.758486</td>\n",
       "      <td>-0.934818</td>\n",
       "      <td>-0.930060</td>\n",
       "      <td>...</td>\n",
       "      <td>-1.326507</td>\n",
       "      <td>-1.326507</td>\n",
       "      <td>-1.326507</td>\n",
       "      <td>-1.326507</td>\n",
       "      <td>-1.326507</td>\n",
       "      <td>-1.326507</td>\n",
       "      <td>-1.326507</td>\n",
       "      <td>-1.326507</td>\n",
       "      <td>-1.326507</td>\n",
       "      <td>-1.326507</td>\n",
       "    </tr>\n",
       "    <tr>\n",
       "      <th>1</th>\n",
       "      <td>0.774725</td>\n",
       "      <td>0.897095</td>\n",
       "      <td>0.784324</td>\n",
       "      <td>0.736410</td>\n",
       "      <td>0.113826</td>\n",
       "      <td>-0.048456</td>\n",
       "      <td>-0.161638</td>\n",
       "      <td>-0.320894</td>\n",
       "      <td>-0.422804</td>\n",
       "      <td>-0.535118</td>\n",
       "      <td>...</td>\n",
       "      <td>-0.140907</td>\n",
       "      <td>-0.140907</td>\n",
       "      <td>-0.140907</td>\n",
       "      <td>-0.140907</td>\n",
       "      <td>-0.140907</td>\n",
       "      <td>-0.140907</td>\n",
       "      <td>-0.140907</td>\n",
       "      <td>-0.140907</td>\n",
       "      <td>-0.140907</td>\n",
       "      <td>-0.140907</td>\n",
       "    </tr>\n",
       "    <tr>\n",
       "      <th>2</th>\n",
       "      <td>-0.096799</td>\n",
       "      <td>-0.287732</td>\n",
       "      <td>-0.895537</td>\n",
       "      <td>-1.441765</td>\n",
       "      <td>-1.282421</td>\n",
       "      <td>-1.085757</td>\n",
       "      <td>-0.312366</td>\n",
       "      <td>-0.160784</td>\n",
       "      <td>-0.377010</td>\n",
       "      <td>-1.040649</td>\n",
       "      <td>...</td>\n",
       "      <td>-0.074152</td>\n",
       "      <td>-0.074152</td>\n",
       "      <td>-0.074152</td>\n",
       "      <td>-0.074152</td>\n",
       "      <td>-0.074152</td>\n",
       "      <td>-0.074152</td>\n",
       "      <td>-0.074152</td>\n",
       "      <td>-0.074152</td>\n",
       "      <td>-0.074152</td>\n",
       "      <td>-0.074152</td>\n",
       "    </tr>\n",
       "    <tr>\n",
       "      <th>3</th>\n",
       "      <td>0.193873</td>\n",
       "      <td>-0.004041</td>\n",
       "      <td>-0.677274</td>\n",
       "      <td>-0.916301</td>\n",
       "      <td>-0.661072</td>\n",
       "      <td>-0.193273</td>\n",
       "      <td>0.669664</td>\n",
       "      <td>1.128687</td>\n",
       "      <td>0.878068</td>\n",
       "      <td>-0.171296</td>\n",
       "      <td>...</td>\n",
       "      <td>0.518003</td>\n",
       "      <td>0.518003</td>\n",
       "      <td>0.518003</td>\n",
       "      <td>0.518003</td>\n",
       "      <td>0.518003</td>\n",
       "      <td>0.518003</td>\n",
       "      <td>0.518003</td>\n",
       "      <td>0.518003</td>\n",
       "      <td>0.518003</td>\n",
       "      <td>0.518003</td>\n",
       "    </tr>\n",
       "    <tr>\n",
       "      <th>4</th>\n",
       "      <td>0.450688</td>\n",
       "      <td>0.538989</td>\n",
       "      <td>0.608466</td>\n",
       "      <td>0.579787</td>\n",
       "      <td>0.048692</td>\n",
       "      <td>-0.114780</td>\n",
       "      <td>-0.004344</td>\n",
       "      <td>0.291210</td>\n",
       "      <td>0.985776</td>\n",
       "      <td>0.949818</td>\n",
       "      <td>...</td>\n",
       "      <td>0.147375</td>\n",
       "      <td>0.147372</td>\n",
       "      <td>0.147369</td>\n",
       "      <td>0.147366</td>\n",
       "      <td>0.147364</td>\n",
       "      <td>0.147362</td>\n",
       "      <td>0.147360</td>\n",
       "      <td>0.147360</td>\n",
       "      <td>0.147359</td>\n",
       "      <td>0.147359</td>\n",
       "    </tr>\n",
       "  </tbody>\n",
       "</table>\n",
       "<p>5 rows × 251 columns</p>\n",
       "</div>"
      ],
      "text/plain": [
       "      freq0     freq1     freq2     freq3     freq4     freq5     freq6  \\\n",
       "0  0.272207  0.232127  0.097951 -0.045612 -0.387230 -0.658945 -0.540858   \n",
       "1  0.774725  0.897095  0.784324  0.736410  0.113826 -0.048456 -0.161638   \n",
       "2 -0.096799 -0.287732 -0.895537 -1.441765 -1.282421 -1.085757 -0.312366   \n",
       "3  0.193873 -0.004041 -0.677274 -0.916301 -0.661072 -0.193273  0.669664   \n",
       "4  0.450688  0.538989  0.608466  0.579787  0.048692 -0.114780 -0.004344   \n",
       "\n",
       "      freq7     freq8     freq9  ...   freq241   freq242   freq243   freq244  \\\n",
       "0 -0.758486 -0.934818 -0.930060  ... -1.326507 -1.326507 -1.326507 -1.326507   \n",
       "1 -0.320894 -0.422804 -0.535118  ... -0.140907 -0.140907 -0.140907 -0.140907   \n",
       "2 -0.160784 -0.377010 -1.040649  ... -0.074152 -0.074152 -0.074152 -0.074152   \n",
       "3  1.128687  0.878068 -0.171296  ...  0.518003  0.518003  0.518003  0.518003   \n",
       "4  0.291210  0.985776  0.949818  ...  0.147375  0.147372  0.147369  0.147366   \n",
       "\n",
       "    freq245   freq246   freq247   freq248   freq249   freq250  \n",
       "0 -1.326507 -1.326507 -1.326507 -1.326507 -1.326507 -1.326507  \n",
       "1 -0.140907 -0.140907 -0.140907 -0.140907 -0.140907 -0.140907  \n",
       "2 -0.074152 -0.074152 -0.074152 -0.074152 -0.074152 -0.074152  \n",
       "3  0.518003  0.518003  0.518003  0.518003  0.518003  0.518003  \n",
       "4  0.147364  0.147362  0.147360  0.147360  0.147359  0.147359  \n",
       "\n",
       "[5 rows x 251 columns]"
      ]
     },
     "execution_count": 10,
     "metadata": {},
     "output_type": "execute_result"
    }
   ],
   "source": [
    "from sklearn.preprocessing import RobustScaler\n",
    "\n",
    "cols = X_train.columns\n",
    "\n",
    "scaler = RobustScaler()\n",
    "\n",
    "X_train = scaler.fit_transform(X_train)\n",
    "\n",
    "X_test = scaler.transform(X_test)\n",
    "X_train = pd.DataFrame(X_train, columns=[cols])\n",
    "X_test = pd.DataFrame(X_test, columns=[cols])\n",
    "X_train.head()"
   ]
  },
  {
   "cell_type": "markdown",
   "metadata": {},
   "source": [
    "- Model training"
   ]
  },
  {
   "cell_type": "code",
   "execution_count": 11,
   "metadata": {},
   "outputs": [
    {
     "name": "stdout",
     "output_type": "stream",
     "text": [
      "Accuracy obtained: 0.7567567567567568\n"
     ]
    },
    {
     "data": {
      "text/plain": [
       "array([0.71428571, 0.74285714, 0.74285714, 0.77142857, 0.77142857,\n",
       "       0.76470588, 0.82352941, 0.73529412])"
      ]
     },
     "execution_count": 11,
     "metadata": {},
     "output_type": "execute_result"
    }
   ],
   "source": [
    "model = GaussianNB()\n",
    "model.fit(X_train,y_train)\n",
    "\n",
    "print(\"Accuracy obtained:\", model.score(X_test, y_test))\n",
    "\n",
    "\"\"\"\n",
    "The cross_val_score() function will be used to perform the evaluation, \n",
    "taking the dataset and cross-validation configuration and returning a list \n",
    "of scores calculated for each fold.\n",
    "\"\"\"\n",
    "\n",
    "cross_val_score(model, X, y, cv=8)"
   ]
  },
  {
   "cell_type": "code",
   "execution_count": 12,
   "metadata": {},
   "outputs": [
    {
     "name": "stderr",
     "output_type": "stream",
     "text": [
      "C:\\Users\\Júlia Garcia Torné\\AppData\\Local\\Packages\\PythonSoftwareFoundation.Python.3.9_qbz5n2kfra8p0\\LocalCache\\local-packages\\Python39\\site-packages\\sklearn\\utils\\deprecation.py:87: FutureWarning: Function plot_confusion_matrix is deprecated; Function `plot_confusion_matrix` is deprecated in 1.0 and will be removed in 1.2. Use one of the class methods: ConfusionMatrixDisplay.from_predictions or ConfusionMatrixDisplay.from_estimator.\n",
      "  warnings.warn(msg, category=FutureWarning)\n"
     ]
    },
    {
     "data": {
      "text/plain": [
       "<sklearn.metrics._plot.confusion_matrix.ConfusionMatrixDisplay at 0x1dacfa81100>"
      ]
     },
     "execution_count": 12,
     "metadata": {},
     "output_type": "execute_result"
    },
    {
     "data": {
      "image/png": "[encoded data removed]",
      "text/plain": [
       "<Figure size 432x288 with 2 Axes>"
      ]
     },
     "metadata": {
      "needs_background": "light"
     },
     "output_type": "display_data"
    }
   ],
   "source": [
    "from sklearn.metrics import plot_confusion_matrix, classification_report\n",
    "\n",
    "plot_confusion_matrix(model,X_test, y_test)"
   ]
  }
 ],
 "metadata": {
  "kernelspec": {
   "display_name": "Python 3.9.13 64-bit (microsoft store)",
   "language": "python",
   "name": "python3"
  },
  "language_info": {
   "codemirror_mode": {
    "name": "ipython",
    "version": 3
   },
   "file_extension": ".py",
   "mimetype": "text/x-python",
   "name": "python",
   "nbconvert_exporter": "python",
   "pygments_lexer": "ipython3",
   "version": "3.9.13"
  },
  "orig_nbformat": 4,
  "vscode": {
   "interpreter": {
    "hash": "0d1831cf2689b5dba254f99187bb279cf01a82452f16d45465929cbbf5686504"
   }
  }
 },
 "nbformat": 4,
 "nbformat_minor": 2
}
